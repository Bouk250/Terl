{
 "metadata": {
  "language_info": {
   "codemirror_mode": {
    "name": "ipython",
    "version": 3
   },
   "file_extension": ".py",
   "mimetype": "text/x-python",
   "name": "python",
   "nbconvert_exporter": "python",
   "pygments_lexer": "ipython3",
   "version": "3.6.12-final"
  },
  "orig_nbformat": 2,
  "kernelspec": {
   "name": "python3",
   "display_name": "Python 3.6.12 64-bit ('ml': conda)",
   "metadata": {
    "interpreter": {
     "hash": "66ca3e2446e2239e152339195ce1dba66986b7a92bcb6816446846e8a3dab9b3"
    }
   }
  }
 },
 "nbformat": 4,
 "nbformat_minor": 2,
 "cells": [
  {
   "cell_type": "code",
   "execution_count": 1,
   "metadata": {},
   "outputs": [],
   "source": [
    "import terl\n",
    "from terl.envs import TradingEnv, make_env\n",
    "from terl.config import EnvConfigManager, config_checker\n",
    "from terl.common.utils import random_index\n",
    "import numpy as np\n",
    "import pandas as pd\n",
    "import vaex\n",
    "from datetime import datetime\n",
    "\n",
    "from sklearn.pipeline import make_pipeline\n",
    "import matplotlib.pyplot as plt\n",
    "from sklearn.preprocessing import FunctionTransformer\n",
    "from sklearn.compose import ColumnTransformer, make_column_transformer\n"
   ]
  },
  {
   "cell_type": "code",
   "execution_count": 2,
   "metadata": {},
   "outputs": [],
   "source": [
    "ecm = EnvConfigManager()"
   ]
  },
  {
   "cell_type": "code",
   "execution_count": 3,
   "metadata": {},
   "outputs": [],
   "source": [
    "conf = ecm.get_config('Env 2')\n",
    "conf.update({'data_loader':'pd'})\n",
    "ecm.save_config(conf,'Env 2')"
   ]
  },
  {
   "cell_type": "code",
   "execution_count": 2,
   "metadata": {},
   "outputs": [
    {
     "output_type": "stream",
     "name": "stderr",
     "text": [
      "INFO:MainThread:numexpr.utils:NumExpr defaulting to 8 threads.\n"
     ]
    }
   ],
   "source": [
    "env = make_env('Env 2')"
   ]
  },
  {
   "cell_type": "code",
   "execution_count": 4,
   "metadata": {},
   "outputs": [
    {
     "output_type": "execute_result",
     "data": {
      "text/plain": [
       "{'GBPUSD_15':         GBPUSD_15_tick_volume  GBPUSD_15_high  GBPUSD_15_close\n",
       " 0                        2781         1.54450          1.53380\n",
       " 1                        2571         1.53600          1.52250\n",
       " 2                        2711         1.54150          1.53870\n",
       " 3                        2921         1.54600          1.53550\n",
       " 4                        2711         1.53800          1.53650\n",
       " ...                       ...             ...              ...\n",
       " 544029                   2456         1.33649          1.33560\n",
       " 544030                   2525         1.33832          1.33779\n",
       " 544031                   4181         1.33902          1.33823\n",
       " 544032                   4720         1.34078          1.34052\n",
       " 544033                   2852         1.34063          1.33889\n",
       " \n",
       " [544034 rows x 3 columns]}"
      ]
     },
     "metadata": {},
     "execution_count": 4
    }
   ],
   "source": [
    "env._db"
   ]
  },
  {
   "cell_type": "code",
   "execution_count": 4,
   "metadata": {},
   "outputs": [
    {
     "output_type": "stream",
     "name": "stdout",
     "text": [
      "3.04 ms ± 74.6 µs per loop (mean ± std. dev. of 7 runs, 100 loops each)\n"
     ]
    }
   ],
   "source": [
    "%%timeit\n",
    "env.reset()"
   ]
  },
  {
   "cell_type": "code",
   "execution_count": null,
   "metadata": {},
   "outputs": [],
   "source": []
  },
  {
   "cell_type": "code",
   "execution_count": 8,
   "metadata": {},
   "outputs": [],
   "source": [
    "df = env._db.get(\"GBPUSD_15\")"
   ]
  },
  {
   "cell_type": "code",
   "execution_count": 15,
   "metadata": {},
   "outputs": [],
   "source": [
    "for col in df.column_names:\n",
    "    df.rename(col, f\"GBPUSD_15_{col}\" )"
   ]
  },
  {
   "cell_type": "code",
   "execution_count": 19,
   "metadata": {
    "tags": []
   },
   "outputs": [
    {
     "output_type": "execute_result",
     "data": {
      "text/plain": [
       "['GBPUSD_15_open',\n",
       " 'GBPUSD_15_high',\n",
       " 'GBPUSD_15_low',\n",
       " 'GBPUSD_15_close',\n",
       " 'GBPUSD_15_tick_volume']"
      ]
     },
     "metadata": {},
     "execution_count": 19
    }
   ],
   "source": [
    "df.columns"
   ]
  },
  {
   "cell_type": "code",
   "execution_count": 3,
   "metadata": {},
   "outputs": [],
   "source": [
    "cm = EnvConfigManager()"
   ]
  },
  {
   "cell_type": "code",
   "execution_count": 5,
   "metadata": {},
   "outputs": [],
   "source": [
    "config_checker(cm.get_config('Test 1'))"
   ]
  },
  {
   "cell_type": "code",
   "execution_count": 7,
   "metadata": {},
   "outputs": [
    {
     "output_type": "stream",
     "name": "stdout",
     "text": [
      "357 ns ± 2.49 ns per loop (mean ± std. dev. of 7 runs, 1000000 loops each)\n"
     ]
    }
   ],
   "source": [
    "%timeit random_index(60, 100000)"
   ]
  }
 ]
}