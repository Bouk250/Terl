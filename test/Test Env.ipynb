{
 "metadata": {
  "language_info": {
   "codemirror_mode": {
    "name": "ipython",
    "version": 3
   },
   "file_extension": ".py",
   "mimetype": "text/x-python",
   "name": "python",
   "nbconvert_exporter": "python",
   "pygments_lexer": "ipython3",
   "version": "3.6.12-final"
  },
  "orig_nbformat": 2,
  "kernelspec": {
   "name": "python3",
   "display_name": "Python 3.6.12 64-bit",
   "metadata": {
    "interpreter": {
     "hash": "66ca3e2446e2239e152339195ce1dba66986b7a92bcb6816446846e8a3dab9b3"
    }
   }
  }
 },
 "nbformat": 4,
 "nbformat_minor": 2,
 "cells": [
  {
   "cell_type": "code",
   "execution_count": 1,
   "metadata": {},
   "outputs": [],
   "source": [
    "import terl\n",
    "from terl.envs import TradingEnv, make_env\n",
    "from terl.config import EnvConfigManager, config_checker\n",
    "from terl.common.utils import random_index\n",
    "import numpy as np\n",
    "import pandas as pd\n",
    "import vaex\n",
    "from datetime import datetime\n",
    "import gym\n",
    "\n",
    "from sklearn.pipeline import make_pipeline\n",
    "import matplotlib.pyplot as plt\n",
    "from sklearn.preprocessing import FunctionTransformer\n",
    "from sklearn.compose import ColumnTransformer, make_column_transformer\n",
    "from ta.momentum import rsi\n",
    "\n",
    "from stable_baselines3.common.env_util import make_vec_env\n",
    "from stable_baselines3.common.vec_env import SubprocVecEnv, DummyVecEnv\n",
    "\n",
    "from utils_test import transpose, minmax_scale\n"
   ]
  },
  {
   "cell_type": "code",
   "execution_count": 2,
   "metadata": {},
   "outputs": [],
   "source": [
    "test = pd.DataFrame(index=['a','b'], columns=['symbol', 'position', 'enter_price', 'enter_datetime', 'out_price', 'trade_profit', 'trade_duration'])"
   ]
  },
  {
   "cell_type": "code",
   "execution_count": 5,
   "metadata": {},
   "outputs": [
    {
     "output_type": "execute_result",
     "data": {
      "text/plain": [
       "True"
      ]
     },
     "metadata": {},
     "execution_count": 5
    }
   ],
   "source": [
    "test.loc['a']['position'] is np.nan"
   ]
  },
  {
   "cell_type": "code",
   "execution_count": 2,
   "metadata": {},
   "outputs": [],
   "source": [
    "ct = make_column_transformer((FunctionTransformer(minmax_scale, kw_args={'axis':None}),[0]) ,remainder='passthrough')\n",
    "\n",
    "model = make_pipeline(ct, FunctionTransformer(transpose))"
   ]
  },
  {
   "cell_type": "code",
   "execution_count": 3,
   "metadata": {},
   "outputs": [],
   "source": [
    "ecm = EnvConfigManager()"
   ]
  },
  {
   "cell_type": "code",
   "execution_count": 4,
   "metadata": {},
   "outputs": [
    {
     "output_type": "execute_result",
     "data": {
      "text/plain": [
       "{'data_loader': 'vaex',\n",
       " 'data_path': '../data',\n",
       " 'end_dt': -1,\n",
       " 'indicators': {'rsi': {'indicator_func': <function ta.momentum.rsi(close, window=14, fillna=False) -> pandas.core.series.Series>,\n",
       "   'symbols': ['GBPUSD'],\n",
       "   'timeframes': [15],\n",
       "   'params': {'window': 12},\n",
       "   'series': {'close': 'close'}}},\n",
       " 'num_of_history': 60,\n",
       " 'obs_pipeline': None,\n",
       " 'obs_var': ['GBPUSD_15_close', 'GBPUSD_15_rsi'],\n",
       " 'portfolio': {'pip_resolution': 1e-05,\n",
       "  'trading_price_obs': ['GBPUSD_15_close', 'GBPUSD_15_rsi']},\n",
       " 'start_dt': datetime.datetime(2000, 1, 1, 0, 0),\n",
       " 'symbols': ['GBPUSD'],\n",
       " 'timeframes': [15]}"
      ]
     },
     "metadata": {},
     "execution_count": 4
    }
   ],
   "source": [
    "conf = ecm.get_config('Env 1')\n",
    "conf"
   ]
  },
  {
   "cell_type": "code",
   "execution_count": 5,
   "metadata": {},
   "outputs": [],
   "source": [
    "class TransposeImage(gym.ObservationWrapper):\n",
    "    def __init__(self, env=None):\n",
    "        \"\"\"\n",
    "        Transpose observation space for images\n",
    "        \"\"\"\n",
    "        super(TransposeImage, self).__init__(env)\n",
    "        self.observation_space = env.observation_space\n",
    "\n",
    "    def observation(self, ob):\n",
    "        print(ob)\n",
    "        return ob"
   ]
  },
  {
   "cell_type": "code",
   "execution_count": null,
   "metadata": {},
   "outputs": [],
   "source": [
    "env = TransposeImage(TradingEnv('envE'))"
   ]
  },
  {
   "cell_type": "code",
   "execution_count": 5,
   "metadata": {},
   "outputs": [
    {
     "output_type": "execute_result",
     "data": {
      "text/plain": [
       "{'data_loader': 'vaex',\n",
       " 'data_path': '../data',\n",
       " 'end_dt': -1,\n",
       " 'indicators': {'rsi': {'indicator_func': <function ta.momentum.rsi(close, window=14, fillna=False) -> pandas.core.series.Series>,\n",
       "   'params': {'window': 12},\n",
       "   'series': {'close': 'close'}}},\n",
       " 'num_of_history': 60,\n",
       " 'obs_pipeline': Pipeline(steps=[('columntransformer',\n",
       "                  ColumnTransformer(remainder='passthrough',\n",
       "                                    transformers=[('functiontransformer',\n",
       "                                                   FunctionTransformer(func=<function minmax_scale at 0x7f2179a980d0>,\n",
       "                                                                       kw_args={'axis': None}),\n",
       "                                                   [0])])),\n",
       "                 ('functiontransformer',\n",
       "                  FunctionTransformer(func=<function transpose at 0x7f2179a98158>))]),\n",
       " 'obs_var': ['GBPUSD_15_close'],\n",
       " 'portfolio': {'pip_resolution': 1e-05,\n",
       "  'trading_price_obs': ['GBPUSD_15_close']},\n",
       " 'start_dt': datetime.datetime(2000, 1, 1, 0, 0),\n",
       " 'symbols': ['GBPUSD'],\n",
       " 'timeframes': [15]}"
      ]
     },
     "metadata": {},
     "execution_count": 5
    }
   ],
   "source": [
    "conf.update([('obs_pipeline', model)])\n",
    "conf"
   ]
  },
  {
   "cell_type": "code",
   "execution_count": 4,
   "metadata": {},
   "outputs": [],
   "source": [
    "indicators = ecm.get_new_config().get('indicators')"
   ]
  },
  {
   "cell_type": "code",
   "execution_count": 6,
   "metadata": {},
   "outputs": [],
   "source": [
    "ecm.save_config(conf, 'Env 1')"
   ]
  },
  {
   "cell_type": "code",
   "execution_count": 1,
   "metadata": {
    "tags": []
   },
   "outputs": [
    {
     "output_type": "stream",
     "name": "stderr",
     "text": [
      "INFO:Thread-4:numexpr.utils:NumExpr defaulting to 8 threads.\n"
     ]
    }
   ],
   "source": [
    "from terl.envs import TradingEnv, make_env\n",
    "import numpy as np\n",
    "import pandas as pd\n",
    "env = TradingEnv('Env 1')"
   ]
  },
  {
   "cell_type": "code",
   "execution_count": 2,
   "metadata": {},
   "outputs": [
    {
     "output_type": "execute_result",
     "data": {
      "text/plain": [
       "Dict(market_data:Box(-inf, inf, (60, 2), float32), portfolio_state:Box(0.0, 1.0, (9,), float32))"
      ]
     },
     "metadata": {},
     "execution_count": 2
    }
   ],
   "source": [
    "env.observation_space"
   ]
  },
  {
   "cell_type": "code",
   "execution_count": 3,
   "metadata": {},
   "outputs": [
    {
     "output_type": "execute_result",
     "data": {
      "text/plain": [
       "{'market_data': array([[ 1.3088  , 44.431156],\n",
       "        [ 1.30874 , 44.009808],\n",
       "        [ 1.30791 , 38.496746],\n",
       "        [ 1.30812 , 40.552517],\n",
       "        [ 1.30773 , 37.980724],\n",
       "        [ 1.30782 , 38.95524 ],\n",
       "        [ 1.30771 , 38.1565  ],\n",
       "        [ 1.30696 , 33.103416],\n",
       "        [ 1.30678 , 31.994152],\n",
       "        [ 1.30707 , 35.7769  ],\n",
       "        [ 1.30785 , 44.786938],\n",
       "        [ 1.30734 , 40.712948],\n",
       "        [ 1.30724 , 39.935734],\n",
       "        [ 1.30722 , 39.76989 ],\n",
       "        [ 1.30734 , 41.362183],\n",
       "        [ 1.30779 , 47.083267],\n",
       "        [ 1.30722 , 41.489323],\n",
       "        [ 1.30723 , 41.622234],\n",
       "        [ 1.30715 , 40.814316],\n",
       "        [ 1.30764 , 47.609505],\n",
       "        [ 1.30778 , 49.420605],\n",
       "        [ 1.30788 , 50.74689 ],\n",
       "        [ 1.30798 , 52.11504 ],\n",
       "        [ 1.30799 , 52.26005 ],\n",
       "        [ 1.30818 , 55.076347],\n",
       "        [ 1.308   , 51.911606],\n",
       "        [ 1.30832 , 56.73413 ],\n",
       "        [ 1.30845 , 58.573963],\n",
       "        [ 1.30884 , 63.63758 ],\n",
       "        [ 1.30896 , 65.06965 ],\n",
       "        [ 1.30908 , 66.50993 ],\n",
       "        [ 1.3087  , 58.219284],\n",
       "        [ 1.30896 , 61.77536 ],\n",
       "        [ 1.30904 , 62.836964],\n",
       "        [ 1.30911 , 63.79812 ],\n",
       "        [ 1.30932 , 66.618805],\n",
       "        [ 1.30978 , 71.860214],\n",
       "        [ 1.30975 , 71.0653  ],\n",
       "        [ 1.31011 , 74.72111 ],\n",
       "        [ 1.30987 , 68.43386 ],\n",
       "        [ 1.30947 , 59.353546],\n",
       "        [ 1.30976 , 63.213467],\n",
       "        [ 1.30937 , 55.48276 ],\n",
       "        [ 1.30968 , 59.750977],\n",
       "        [ 1.30968 , 59.750977],\n",
       "        [ 1.30949 , 55.844456],\n",
       "        [ 1.30936 , 53.24746 ],\n",
       "        [ 1.30967 , 58.294323],\n",
       "        [ 1.30928 , 50.772236],\n",
       "        [ 1.30919 , 49.17449 ],\n",
       "        [ 1.30881 , 42.948753],\n",
       "        [ 1.30908 , 48.04678 ],\n",
       "        [ 1.30891 , 45.268517],\n",
       "        [ 1.30862 , 40.86983 ],\n",
       "        [ 1.30804 , 33.722073],\n",
       "        [ 1.30879 , 46.837875],\n",
       "        [ 1.30969 , 57.77717 ],\n",
       "        [ 1.3098  , 58.904938],\n",
       "        [ 1.30996 , 60.575188],\n",
       "        [ 1.30988 , 59.261406]], dtype=float32),\n",
       " 'portfolio_state': array([1., 0., 0., 0., 0., 0., 0., 0., 0.])}"
      ]
     },
     "metadata": {},
     "execution_count": 3
    }
   ],
   "source": [
    "env.reset()"
   ]
  },
  {
   "cell_type": "code",
   "execution_count": 3,
   "metadata": {},
   "outputs": [
    {
     "output_type": "execute_result",
     "data": {
      "text/plain": [
       "   GBPUSD_15_close  GBPUSD_15_rsi\n",
       "0                0              0\n",
       "1                0              1\n",
       "2                0             -1\n",
       "3                1              0\n",
       "4                1              1\n",
       "5                1             -1\n",
       "6               -1              0\n",
       "7               -1              1\n",
       "8               -1             -1"
      ],
      "text/html": "<div>\n<style scoped>\n    .dataframe tbody tr th:only-of-type {\n        vertical-align: middle;\n    }\n\n    .dataframe tbody tr th {\n        vertical-align: top;\n    }\n\n    .dataframe thead th {\n        text-align: right;\n    }\n</style>\n<table border=\"1\" class=\"dataframe\">\n  <thead>\n    <tr style=\"text-align: right;\">\n      <th></th>\n      <th>GBPUSD_15_close</th>\n      <th>GBPUSD_15_rsi</th>\n    </tr>\n  </thead>\n  <tbody>\n    <tr>\n      <th>0</th>\n      <td>0</td>\n      <td>0</td>\n    </tr>\n    <tr>\n      <th>1</th>\n      <td>0</td>\n      <td>1</td>\n    </tr>\n    <tr>\n      <th>2</th>\n      <td>0</td>\n      <td>-1</td>\n    </tr>\n    <tr>\n      <th>3</th>\n      <td>1</td>\n      <td>0</td>\n    </tr>\n    <tr>\n      <th>4</th>\n      <td>1</td>\n      <td>1</td>\n    </tr>\n    <tr>\n      <th>5</th>\n      <td>1</td>\n      <td>-1</td>\n    </tr>\n    <tr>\n      <th>6</th>\n      <td>-1</td>\n      <td>0</td>\n    </tr>\n    <tr>\n      <th>7</th>\n      <td>-1</td>\n      <td>1</td>\n    </tr>\n    <tr>\n      <th>8</th>\n      <td>-1</td>\n      <td>-1</td>\n    </tr>\n  </tbody>\n</table>\n</div>"
     },
     "metadata": {},
     "execution_count": 3
    }
   ],
   "source": [
    "env._portfolio._action_map"
   ]
  },
  {
   "cell_type": "code",
   "execution_count": 4,
   "metadata": {},
   "outputs": [
    {
     "output_type": "execute_result",
     "data": {
      "text/plain": [
       "   GBPUSD_15_close  GBPUSD_15_rsi\n",
       "0                0              0\n",
       "1                0              1\n",
       "2                0             -1\n",
       "3                1              0\n",
       "4                1              1\n",
       "5                1             -1\n",
       "6               -1              0\n",
       "7               -1              1\n",
       "8               -1             -1"
      ],
      "text/html": "<div>\n<style scoped>\n    .dataframe tbody tr th:only-of-type {\n        vertical-align: middle;\n    }\n\n    .dataframe tbody tr th {\n        vertical-align: top;\n    }\n\n    .dataframe thead th {\n        text-align: right;\n    }\n</style>\n<table border=\"1\" class=\"dataframe\">\n  <thead>\n    <tr style=\"text-align: right;\">\n      <th></th>\n      <th>GBPUSD_15_close</th>\n      <th>GBPUSD_15_rsi</th>\n    </tr>\n  </thead>\n  <tbody>\n    <tr>\n      <th>0</th>\n      <td>0</td>\n      <td>0</td>\n    </tr>\n    <tr>\n      <th>1</th>\n      <td>0</td>\n      <td>1</td>\n    </tr>\n    <tr>\n      <th>2</th>\n      <td>0</td>\n      <td>-1</td>\n    </tr>\n    <tr>\n      <th>3</th>\n      <td>1</td>\n      <td>0</td>\n    </tr>\n    <tr>\n      <th>4</th>\n      <td>1</td>\n      <td>1</td>\n    </tr>\n    <tr>\n      <th>5</th>\n      <td>1</td>\n      <td>-1</td>\n    </tr>\n    <tr>\n      <th>6</th>\n      <td>-1</td>\n      <td>0</td>\n    </tr>\n    <tr>\n      <th>7</th>\n      <td>-1</td>\n      <td>1</td>\n    </tr>\n    <tr>\n      <th>8</th>\n      <td>-1</td>\n      <td>-1</td>\n    </tr>\n  </tbody>\n</table>\n</div>"
     },
     "metadata": {},
     "execution_count": 4
    }
   ],
   "source": [
    "env._portfolio.legal_action()"
   ]
  },
  {
   "cell_type": "code",
   "execution_count": 2,
   "metadata": {},
   "outputs": [
    {
     "output_type": "execute_result",
     "data": {
      "text/plain": [
       "(   GBPUSD_15_close  GBPUSD_15_rsi\n",
       " 0                0              0,\n",
       " array([1., 0., 0., 0., 0., 0., 0., 0., 0.]))"
      ]
     },
     "metadata": {},
     "execution_count": 2
    }
   ],
   "source": [
    "env._portfolio.state"
   ]
  },
  {
   "cell_type": "code",
   "execution_count": 6,
   "metadata": {},
   "outputs": [
    {
     "output_type": "stream",
     "name": "stdout",
     "text": [
      "6\n"
     ]
    },
    {
     "output_type": "execute_result",
     "data": {
      "text/plain": [
       "array([[ 1.51159 , 65.95723 ],\n",
       "       [ 1.51145 , 64.886795],\n",
       "       [ 1.51316 , 71.131516],\n",
       "       [ 1.51176 , 61.381325],\n",
       "       [ 1.51136 , 58.86663 ],\n",
       "       [ 1.51003 , 51.24964 ],\n",
       "       [ 1.51149 , 57.789986],\n",
       "       [ 1.51156 , 58.08402 ],\n",
       "       [ 1.5119  , 59.57653 ],\n",
       "       [ 1.51148 , 56.848743],\n",
       "       [ 1.51268 , 62.238403],\n",
       "       [ 1.5118  , 56.584743],\n",
       "       [ 1.51117 , 52.8362  ],\n",
       "       [ 1.51292 , 60.72104 ],\n",
       "       [ 1.51068 , 49.228565],\n",
       "       [ 1.51104 , 50.85922 ],\n",
       "       [ 1.51139 , 52.47795 ],\n",
       "       [ 1.51171 , 53.98999 ],\n",
       "       [ 1.51232 , 56.844692],\n",
       "       [ 1.51216 , 55.85249 ],\n",
       "       [ 1.51241 , 57.12777 ],\n",
       "       [ 1.51263 , 58.283833],\n",
       "       [ 1.51238 , 56.39818 ],\n",
       "       [ 1.51261 , 57.769268],\n",
       "       [ 1.513   , 60.091446],\n",
       "       [ 1.51321 , 61.340286],\n",
       "       [ 1.51288 , 58.217106],\n",
       "       [ 1.5129  , 58.35744 ],\n",
       "       [ 1.51298 , 58.958054],\n",
       "       [ 1.51291 , 58.15754 ],\n",
       "       [ 1.51312 , 59.938713],\n",
       "       [ 1.5131  , 59.67449 ],\n",
       "       [ 1.51279 , 55.53942 ],\n",
       "       [ 1.51295 , 57.20841 ],\n",
       "       [ 1.51247 , 50.949123],\n",
       "       [ 1.5124  , 50.077637],\n",
       "       [ 1.51212 , 46.59806 ],\n",
       "       [ 1.5119  , 43.97832 ],\n",
       "       [ 1.51243 , 51.188396],\n",
       "       [ 1.51277 , 55.22265 ],\n",
       "       [ 1.51296 , 57.368843],\n",
       "       [ 1.5128  , 54.948418],\n",
       "       [ 1.51244 , 49.79125 ],\n",
       "       [ 1.51146 , 38.938457],\n",
       "       [ 1.51155 , 40.24338 ],\n",
       "       [ 1.51196 , 45.981388],\n",
       "       [ 1.51263 , 53.87503 ],\n",
       "       [ 1.51352 , 61.93602 ],\n",
       "       [ 1.51338 , 60.13327 ],\n",
       "       [ 1.51321 , 57.90015 ],\n",
       "       [ 1.51346 , 60.267235],\n",
       "       [ 1.51359 , 61.494865],\n",
       "       [ 1.51312 , 54.813217],\n",
       "       [ 1.51298 , 52.942707],\n",
       "       [ 1.5123  , 44.83935 ],\n",
       "       [ 1.5134  , 56.569916],\n",
       "       [ 1.51393 , 60.93665 ],\n",
       "       [ 1.51375 , 58.748104],\n",
       "       [ 1.51379 , 59.104637],\n",
       "       [ 1.51356 , 56.06958 ]], dtype=float32)"
      ]
     },
     "metadata": {},
     "execution_count": 6
    }
   ],
   "source": [
    "action = 6\n",
    "print(action)\n",
    "env.step(action)"
   ]
  },
  {
   "cell_type": "code",
   "execution_count": 7,
   "metadata": {},
   "outputs": [
    {
     "output_type": "execute_result",
     "data": {
      "text/plain": [
       "                position enter_price       enter_datetime\n",
       "GBPUSD_15_close    Short     1.51379  2013-05-30 07:30:00\n",
       "GBPUSD_15_rsi        NaN         NaN                  NaN"
      ],
      "text/html": "<div>\n<style scoped>\n    .dataframe tbody tr th:only-of-type {\n        vertical-align: middle;\n    }\n\n    .dataframe tbody tr th {\n        vertical-align: top;\n    }\n\n    .dataframe thead th {\n        text-align: right;\n    }\n</style>\n<table border=\"1\" class=\"dataframe\">\n  <thead>\n    <tr style=\"text-align: right;\">\n      <th></th>\n      <th>position</th>\n      <th>enter_price</th>\n      <th>enter_datetime</th>\n    </tr>\n  </thead>\n  <tbody>\n    <tr>\n      <th>GBPUSD_15_close</th>\n      <td>Short</td>\n      <td>1.51379</td>\n      <td>2013-05-30 07:30:00</td>\n    </tr>\n    <tr>\n      <th>GBPUSD_15_rsi</th>\n      <td>NaN</td>\n      <td>NaN</td>\n      <td>NaN</td>\n    </tr>\n  </tbody>\n</table>\n</div>"
     },
     "metadata": {},
     "execution_count": 7
    }
   ],
   "source": [
    "env._portfolio._trade"
   ]
  },
  {
   "cell_type": "code",
   "execution_count": 27,
   "metadata": {},
   "outputs": [
    {
     "output_type": "execute_result",
     "data": {
      "text/plain": [
       "True"
      ]
     },
     "metadata": {},
     "execution_count": 27
    }
   ],
   "source": [
    "pd.isna(env._portfolio._trade.loc['GBPUSD_15_close']['position'])"
   ]
  },
  {
   "cell_type": "code",
   "execution_count": 31,
   "metadata": {},
   "outputs": [
    {
     "output_type": "execute_result",
     "data": {
      "text/plain": [
       "            symbol position  enter_price      enter_datetime  out_price  \\\n",
       "0  GBPUSD_15_close     Long     2.036400 2007-08-09 02:45:00   2.036100   \n",
       "1    GBPUSD_15_rsi     Long    50.360246 2007-08-09 02:45:00  47.600023   \n",
       "2  GBPUSD_15_close    Short     2.037400 2007-08-09 03:15:00   2.037400   \n",
       "3    GBPUSD_15_rsi    Short    58.378795 2007-08-09 03:15:00  58.378795   \n",
       "4    GBPUSD_15_rsi     Long    51.580204 2007-08-09 03:45:00  48.970806   \n",
       "5  GBPUSD_15_close     Long     2.036700 2007-08-09 03:45:00   2.036700   \n",
       "6    GBPUSD_15_rsi    Short    51.942594 2007-08-09 05:15:00  52.938429   \n",
       "\n",
       "         out_datetime   trade_profit  trade_duration  \n",
       "0 2007-08-09 03:00:00     -30.016899 0 days 00:15:00  \n",
       "1 2007-08-09 03:00:00 -276022.294630 0 days 00:15:00  \n",
       "2 2007-08-09 03:30:00       0.000000 0 days 00:15:00  \n",
       "3 2007-08-09 03:30:00       0.000000 0 days 00:15:00  \n",
       "4 2007-08-09 05:00:00 -260939.788246 0 days 01:15:00  \n",
       "5 2007-08-09 05:15:00       0.000000 0 days 01:30:00  \n",
       "6 2007-08-09 05:30:00  -99583.503430 0 days 00:15:00  "
      ],
      "text/html": "<div>\n<style scoped>\n    .dataframe tbody tr th:only-of-type {\n        vertical-align: middle;\n    }\n\n    .dataframe tbody tr th {\n        vertical-align: top;\n    }\n\n    .dataframe thead th {\n        text-align: right;\n    }\n</style>\n<table border=\"1\" class=\"dataframe\">\n  <thead>\n    <tr style=\"text-align: right;\">\n      <th></th>\n      <th>symbol</th>\n      <th>position</th>\n      <th>enter_price</th>\n      <th>enter_datetime</th>\n      <th>out_price</th>\n      <th>out_datetime</th>\n      <th>trade_profit</th>\n      <th>trade_duration</th>\n    </tr>\n  </thead>\n  <tbody>\n    <tr>\n      <th>0</th>\n      <td>GBPUSD_15_close</td>\n      <td>Long</td>\n      <td>2.036400</td>\n      <td>2007-08-09 02:45:00</td>\n      <td>2.036100</td>\n      <td>2007-08-09 03:00:00</td>\n      <td>-30.016899</td>\n      <td>0 days 00:15:00</td>\n    </tr>\n    <tr>\n      <th>1</th>\n      <td>GBPUSD_15_rsi</td>\n      <td>Long</td>\n      <td>50.360246</td>\n      <td>2007-08-09 02:45:00</td>\n      <td>47.600023</td>\n      <td>2007-08-09 03:00:00</td>\n      <td>-276022.294630</td>\n      <td>0 days 00:15:00</td>\n    </tr>\n    <tr>\n      <th>2</th>\n      <td>GBPUSD_15_close</td>\n      <td>Short</td>\n      <td>2.037400</td>\n      <td>2007-08-09 03:15:00</td>\n      <td>2.037400</td>\n      <td>2007-08-09 03:30:00</td>\n      <td>0.000000</td>\n      <td>0 days 00:15:00</td>\n    </tr>\n    <tr>\n      <th>3</th>\n      <td>GBPUSD_15_rsi</td>\n      <td>Short</td>\n      <td>58.378795</td>\n      <td>2007-08-09 03:15:00</td>\n      <td>58.378795</td>\n      <td>2007-08-09 03:30:00</td>\n      <td>0.000000</td>\n      <td>0 days 00:15:00</td>\n    </tr>\n    <tr>\n      <th>4</th>\n      <td>GBPUSD_15_rsi</td>\n      <td>Long</td>\n      <td>51.580204</td>\n      <td>2007-08-09 03:45:00</td>\n      <td>48.970806</td>\n      <td>2007-08-09 05:00:00</td>\n      <td>-260939.788246</td>\n      <td>0 days 01:15:00</td>\n    </tr>\n    <tr>\n      <th>5</th>\n      <td>GBPUSD_15_close</td>\n      <td>Long</td>\n      <td>2.036700</td>\n      <td>2007-08-09 03:45:00</td>\n      <td>2.036700</td>\n      <td>2007-08-09 05:15:00</td>\n      <td>0.000000</td>\n      <td>0 days 01:30:00</td>\n    </tr>\n    <tr>\n      <th>6</th>\n      <td>GBPUSD_15_rsi</td>\n      <td>Short</td>\n      <td>51.942594</td>\n      <td>2007-08-09 05:15:00</td>\n      <td>52.938429</td>\n      <td>2007-08-09 05:30:00</td>\n      <td>-99583.503430</td>\n      <td>0 days 00:15:00</td>\n    </tr>\n  </tbody>\n</table>\n</div>"
     },
     "metadata": {},
     "execution_count": 31
    }
   ],
   "source": [
    "env._portfolio._history"
   ]
  },
  {
   "cell_type": "code",
   "execution_count": 9,
   "metadata": {},
   "outputs": [
    {
     "output_type": "execute_result",
     "data": {
      "text/plain": [
       "GBPUSD_15    30602\n",
       "Name: 2000-03-17 05:30:00, dtype: int32"
      ]
     },
     "metadata": {},
     "execution_count": 9
    }
   ],
   "source": [
    "env._dt_index_map.iloc[env._current_dt_index]"
   ]
  },
  {
   "cell_type": "code",
   "execution_count": 6,
   "metadata": {},
   "outputs": [
    {
     "output_type": "execute_result",
     "data": {
      "text/plain": [
       "   GBPUSD_15_close  GBPUSD_15_rsi\n",
       "0                0              0\n",
       "1                0              1\n",
       "2                0              2\n",
       "3                1              0\n",
       "4                1              1\n",
       "5                1              2\n",
       "6                2              0\n",
       "7                2              1\n",
       "8                2              2"
      ],
      "text/html": "<div>\n<style scoped>\n    .dataframe tbody tr th:only-of-type {\n        vertical-align: middle;\n    }\n\n    .dataframe tbody tr th {\n        vertical-align: top;\n    }\n\n    .dataframe thead th {\n        text-align: right;\n    }\n</style>\n<table border=\"1\" class=\"dataframe\">\n  <thead>\n    <tr style=\"text-align: right;\">\n      <th></th>\n      <th>GBPUSD_15_close</th>\n      <th>GBPUSD_15_rsi</th>\n    </tr>\n  </thead>\n  <tbody>\n    <tr>\n      <th>0</th>\n      <td>0</td>\n      <td>0</td>\n    </tr>\n    <tr>\n      <th>1</th>\n      <td>0</td>\n      <td>1</td>\n    </tr>\n    <tr>\n      <th>2</th>\n      <td>0</td>\n      <td>2</td>\n    </tr>\n    <tr>\n      <th>3</th>\n      <td>1</td>\n      <td>0</td>\n    </tr>\n    <tr>\n      <th>4</th>\n      <td>1</td>\n      <td>1</td>\n    </tr>\n    <tr>\n      <th>5</th>\n      <td>1</td>\n      <td>2</td>\n    </tr>\n    <tr>\n      <th>6</th>\n      <td>2</td>\n      <td>0</td>\n    </tr>\n    <tr>\n      <th>7</th>\n      <td>2</td>\n      <td>1</td>\n    </tr>\n    <tr>\n      <th>8</th>\n      <td>2</td>\n      <td>2</td>\n    </tr>\n  </tbody>\n</table>\n</div>"
     },
     "metadata": {},
     "execution_count": 6
    }
   ],
   "source": [
    "env._portfolio._action_map"
   ]
  },
  {
   "cell_type": "code",
   "execution_count": 11,
   "metadata": {},
   "outputs": [
    {
     "output_type": "execute_result",
     "data": {
      "text/plain": [
       "0"
      ]
     },
     "metadata": {},
     "execution_count": 11
    }
   ],
   "source": [
    "env._portfolio._action_map.loc[1]"
   ]
  },
  {
   "cell_type": "code",
   "execution_count": 95,
   "metadata": {},
   "outputs": [
    {
     "output_type": "execute_result",
     "data": {
      "text/plain": [
       "5"
      ]
     },
     "metadata": {},
     "execution_count": 95
    }
   ],
   "source": [
    "env.action_space.sample()"
   ]
  },
  {
   "cell_type": "code",
   "execution_count": 27,
   "metadata": {},
   "outputs": [
    {
     "output_type": "execute_result",
     "data": {
      "text/plain": [
       "1.0"
      ]
     },
     "metadata": {},
     "execution_count": 27
    }
   ],
   "source": [
    "env.reset()[0].max()"
   ]
  },
  {
   "cell_type": "code",
   "execution_count": 4,
   "metadata": {},
   "outputs": [],
   "source": [
    "conf.update({\n",
    "    'test' : rsi\n",
    "})\n",
    "ecm.save_config(conf,'Env 2')"
   ]
  },
  {
   "cell_type": "code",
   "execution_count": 14,
   "metadata": {},
   "outputs": [
    {
     "output_type": "stream",
     "name": "stderr",
     "text": [
      "/home/ariel/anaconda3/envs/ml/lib/python3.6/site-packages/ipykernel_launcher.py:2: DeprecationWarning: The default dtype for empty Series will be 'object' instead of 'float64' in a future version. Specify a dtype explicitly to silence this warning.\n  \n"
     ]
    },
    {
     "output_type": "execute_result",
     "data": {
      "text/plain": [
       "Series([], Name: rsi, dtype: float64)"
      ]
     },
     "metadata": {},
     "execution_count": 14
    }
   ],
   "source": [
    "test = rsi\n",
    "test(**{'close':pd.Series(),'window':25})"
   ]
  },
  {
   "cell_type": "code",
   "execution_count": 3,
   "metadata": {},
   "outputs": [
    {
     "output_type": "execute_result",
     "data": {
      "text/plain": [
       "{'data_loader': 'vx',\n",
       " 'data_path': '/home/ariel/Documents/ForexData',\n",
       " 'end_dt': -1,\n",
       " 'num_of_history': 200,\n",
       " 'obs_var': ['GBPUSD_1_close',\n",
       "  'GBPUSD_5_close',\n",
       "  'GBPUSD_15_close',\n",
       "  'GBPUSD_60_close',\n",
       "  'GBPUSD_240_close',\n",
       "  'EURUSD_1_close',\n",
       "  'EURUSD_5_close',\n",
       "  'EURUSD_15_close',\n",
       "  'EURUSD_60_close',\n",
       "  'EURUSD_240_close',\n",
       "  'EURGBP_1_close',\n",
       "  'EURGBP_5_close',\n",
       "  'EURGBP_15_close',\n",
       "  'EURGBP_60_close',\n",
       "  'EURGBP_240_close'],\n",
       " 'start_dt': datetime.datetime(2000, 1, 1, 0, 0),\n",
       " 'symbols': ['GBPUSD', 'EURUSD', 'EURGBP'],\n",
       " 'timeframes': [1, 5, 15, 60, 240]}"
      ]
     },
     "metadata": {},
     "execution_count": 3
    }
   ],
   "source": [
    "conf = EnvConfigManager().get_config('Env 1')\n",
    "conf"
   ]
  },
  {
   "cell_type": "code",
   "execution_count": 2,
   "metadata": {},
   "outputs": [
    {
     "output_type": "stream",
     "name": "stderr",
     "text": [
      "INFO:MainThread:numexpr.utils:Note: NumExpr detected 16 cores but \"NUMEXPR_MAX_THREADS\" not set, so enforcing safe limit of 8.\n",
      "INFO:MainThread:numexpr.utils:NumExpr defaulting to 8 threads.\n"
     ]
    },
    {
     "output_type": "execute_result",
     "data": {
      "text/plain": [
       "<stable_baselines3.common.vec_env.dummy_vec_env.DummyVecEnv at 0x7f3505fc8320>"
      ]
     },
     "metadata": {},
     "execution_count": 2
    }
   ],
   "source": [
    "env = DummyVecEnv([lambda : make_env('Env 1') for _ in range(1)])\n",
    "env"
   ]
  },
  {
   "cell_type": "code",
   "execution_count": 10,
   "metadata": {
    "tags": []
   },
   "outputs": [
    {
     "output_type": "stream",
     "name": "stdout",
     "text": [
      "CPU times: user 22.1 ms, sys: 7.75 ms, total: 29.9 ms\nWall time: 28.8 ms\n"
     ]
    },
    {
     "output_type": "execute_result",
     "data": {
      "text/plain": [
       "array([[1.25786, 1.25416, 1.24063, ..., 0.89524, 0.89617, 0.86216],\n",
       "       [1.25773, 1.25315, 1.24253, ..., 0.89363, 0.89624, 0.86204],\n",
       "       [1.25776, 1.25312, 1.23965, ..., 0.89305, 0.89614, 0.86042],\n",
       "       ...,\n",
       "       [1.26544, 1.26574, 1.26554, ..., 0.85872, 0.86747, 0.868  ],\n",
       "       [1.26548, 1.26617, 1.2659 , ..., 0.85808, 0.86235, 0.86805],\n",
       "       [1.2656 , 1.26534, 1.26617, ..., 0.85818, 0.85872, 0.86235]],\n",
       "      dtype=float32)"
      ]
     },
     "metadata": {},
     "execution_count": 10
    }
   ],
   "source": [
    "\n",
    "%%time\n",
    "env.envs[0].reset()"
   ]
  },
  {
   "cell_type": "code",
   "execution_count": 3,
   "metadata": {},
   "outputs": [
    {
     "output_type": "stream",
     "name": "stdout",
     "text": [
      "40.1 ms ± 140 µs per loop (mean ± std. dev. of 7 runs, 10 loops each)\n"
     ]
    }
   ],
   "source": [
    "\n",
    "%%timeit\n",
    "_ = env.reset()"
   ]
  },
  {
   "cell_type": "code",
   "execution_count": 87,
   "metadata": {},
   "outputs": [
    {
     "output_type": "execute_result",
     "data": {
      "text/plain": [
       "[<matplotlib.lines.Line2D at 0x7f98d30dd470>]"
      ]
     },
     "metadata": {},
     "execution_count": 87
    },
    {
     "output_type": "display_data",
     "data": {
      "text/plain": "<Figure size 432x288 with 1 Axes>",
      "image/svg+xml": "<?xml version=\"1.0\" encoding=\"utf-8\" standalone=\"no\"?>\n<!DOCTYPE svg PUBLIC \"-//W3C//DTD SVG 1.1//EN\"\n  \"http://www.w3.org/Graphics/SVG/1.1/DTD/svg11.dtd\">\n<!-- Created with matplotlib (https://matplotlib.org/) -->\n<svg height=\"248.518125pt\" version=\"1.1\" viewBox=\"0 0 384.828125 248.518125\" width=\"384.828125pt\" xmlns=\"http://www.w3.org/2000/svg\" xmlns:xlink=\"http://www.w3.org/1999/xlink\">\n <metadata>\n  <rdf:RDF xmlns:cc=\"http://creativecommons.org/ns#\" xmlns:dc=\"http://purl.org/dc/elements/1.1/\" xmlns:rdf=\"http://www.w3.org/1999/02/22-rdf-syntax-ns#\">\n   <cc:Work>\n    <dc:type rdf:resource=\"http://purl.org/dc/dcmitype/StillImage\"/>\n    <dc:date>2021-01-02T02:08:31.695394</dc:date>\n    <dc:format>image/svg+xml</dc:format>\n    <dc:creator>\n     <cc:Agent>\n      <dc:title>Matplotlib v3.3.2, https://matplotlib.org/</dc:title>\n     </cc:Agent>\n    </dc:creator>\n   </cc:Work>\n  </rdf:RDF>\n </metadata>\n <defs>\n  <style type=\"text/css\">*{stroke-linecap:butt;stroke-linejoin:round;}</style>\n </defs>\n <g id=\"figure_1\">\n  <g id=\"patch_1\">\n   <path d=\"M 0 248.518125 \nL 384.828125 248.518125 \nL 384.828125 0 \nL 0 0 \nz\n\" style=\"fill:none;\"/>\n  </g>\n  <g id=\"axes_1\">\n   <g id=\"patch_2\">\n    <path d=\"M 42.828125 224.64 \nL 377.628125 224.64 \nL 377.628125 7.2 \nL 42.828125 7.2 \nz\n\" style=\"fill:#ffffff;\"/>\n   </g>\n   <g id=\"matplotlib.axis_1\">\n    <g id=\"xtick_1\">\n     <g id=\"line2d_1\">\n      <defs>\n       <path d=\"M 0 0 \nL 0 3.5 \n\" id=\"med1d3da2e2\" style=\"stroke:#000000;stroke-width:0.8;\"/>\n      </defs>\n      <g>\n       <use style=\"stroke:#000000;stroke-width:0.8;\" x=\"58.046307\" xlink:href=\"#med1d3da2e2\" y=\"224.64\"/>\n      </g>\n     </g>\n     <g id=\"text_1\">\n      <!-- 0 -->\n      <g transform=\"translate(54.865057 239.238437)scale(0.1 -0.1)\">\n       <defs>\n        <path d=\"M 31.78125 66.40625 \nQ 24.171875 66.40625 20.328125 58.90625 \nQ 16.5 51.421875 16.5 36.375 \nQ 16.5 21.390625 20.328125 13.890625 \nQ 24.171875 6.390625 31.78125 6.390625 \nQ 39.453125 6.390625 43.28125 13.890625 \nQ 47.125 21.390625 47.125 36.375 \nQ 47.125 51.421875 43.28125 58.90625 \nQ 39.453125 66.40625 31.78125 66.40625 \nz\nM 31.78125 74.21875 \nQ 44.046875 74.21875 50.515625 64.515625 \nQ 56.984375 54.828125 56.984375 36.375 \nQ 56.984375 17.96875 50.515625 8.265625 \nQ 44.046875 -1.421875 31.78125 -1.421875 \nQ 19.53125 -1.421875 13.0625 8.265625 \nQ 6.59375 17.96875 6.59375 36.375 \nQ 6.59375 54.828125 13.0625 64.515625 \nQ 19.53125 74.21875 31.78125 74.21875 \nz\n\" id=\"DejaVuSans-48\"/>\n       </defs>\n       <use xlink:href=\"#DejaVuSans-48\"/>\n      </g>\n     </g>\n    </g>\n    <g id=\"xtick_2\">\n     <g id=\"line2d_2\">\n      <g>\n       <use style=\"stroke:#000000;stroke-width:0.8;\" x=\"96.282945\" xlink:href=\"#med1d3da2e2\" y=\"224.64\"/>\n      </g>\n     </g>\n     <g id=\"text_2\">\n      <!-- 25 -->\n      <g transform=\"translate(89.920445 239.238437)scale(0.1 -0.1)\">\n       <defs>\n        <path d=\"M 19.1875 8.296875 \nL 53.609375 8.296875 \nL 53.609375 0 \nL 7.328125 0 \nL 7.328125 8.296875 \nQ 12.9375 14.109375 22.625 23.890625 \nQ 32.328125 33.6875 34.8125 36.53125 \nQ 39.546875 41.84375 41.421875 45.53125 \nQ 43.3125 49.21875 43.3125 52.78125 \nQ 43.3125 58.59375 39.234375 62.25 \nQ 35.15625 65.921875 28.609375 65.921875 \nQ 23.96875 65.921875 18.8125 64.3125 \nQ 13.671875 62.703125 7.8125 59.421875 \nL 7.8125 69.390625 \nQ 13.765625 71.78125 18.9375 73 \nQ 24.125 74.21875 28.421875 74.21875 \nQ 39.75 74.21875 46.484375 68.546875 \nQ 53.21875 62.890625 53.21875 53.421875 \nQ 53.21875 48.921875 51.53125 44.890625 \nQ 49.859375 40.875 45.40625 35.40625 \nQ 44.1875 33.984375 37.640625 27.21875 \nQ 31.109375 20.453125 19.1875 8.296875 \nz\n\" id=\"DejaVuSans-50\"/>\n        <path d=\"M 10.796875 72.90625 \nL 49.515625 72.90625 \nL 49.515625 64.59375 \nL 19.828125 64.59375 \nL 19.828125 46.734375 \nQ 21.96875 47.46875 24.109375 47.828125 \nQ 26.265625 48.1875 28.421875 48.1875 \nQ 40.625 48.1875 47.75 41.5 \nQ 54.890625 34.8125 54.890625 23.390625 \nQ 54.890625 11.625 47.5625 5.09375 \nQ 40.234375 -1.421875 26.90625 -1.421875 \nQ 22.3125 -1.421875 17.546875 -0.640625 \nQ 12.796875 0.140625 7.71875 1.703125 \nL 7.71875 11.625 \nQ 12.109375 9.234375 16.796875 8.0625 \nQ 21.484375 6.890625 26.703125 6.890625 \nQ 35.15625 6.890625 40.078125 11.328125 \nQ 45.015625 15.765625 45.015625 23.390625 \nQ 45.015625 31 40.078125 35.4375 \nQ 35.15625 39.890625 26.703125 39.890625 \nQ 22.75 39.890625 18.8125 39.015625 \nQ 14.890625 38.140625 10.796875 36.28125 \nz\n\" id=\"DejaVuSans-53\"/>\n       </defs>\n       <use xlink:href=\"#DejaVuSans-50\"/>\n       <use x=\"63.623047\" xlink:href=\"#DejaVuSans-53\"/>\n      </g>\n     </g>\n    </g>\n    <g id=\"xtick_3\">\n     <g id=\"line2d_3\">\n      <g>\n       <use style=\"stroke:#000000;stroke-width:0.8;\" x=\"134.519582\" xlink:href=\"#med1d3da2e2\" y=\"224.64\"/>\n      </g>\n     </g>\n     <g id=\"text_3\">\n      <!-- 50 -->\n      <g transform=\"translate(128.157082 239.238437)scale(0.1 -0.1)\">\n       <use xlink:href=\"#DejaVuSans-53\"/>\n       <use x=\"63.623047\" xlink:href=\"#DejaVuSans-48\"/>\n      </g>\n     </g>\n    </g>\n    <g id=\"xtick_4\">\n     <g id=\"line2d_4\">\n      <g>\n       <use style=\"stroke:#000000;stroke-width:0.8;\" x=\"172.75622\" xlink:href=\"#med1d3da2e2\" y=\"224.64\"/>\n      </g>\n     </g>\n     <g id=\"text_4\">\n      <!-- 75 -->\n      <g transform=\"translate(166.39372 239.238437)scale(0.1 -0.1)\">\n       <defs>\n        <path d=\"M 8.203125 72.90625 \nL 55.078125 72.90625 \nL 55.078125 68.703125 \nL 28.609375 0 \nL 18.3125 0 \nL 43.21875 64.59375 \nL 8.203125 64.59375 \nz\n\" id=\"DejaVuSans-55\"/>\n       </defs>\n       <use xlink:href=\"#DejaVuSans-55\"/>\n       <use x=\"63.623047\" xlink:href=\"#DejaVuSans-53\"/>\n      </g>\n     </g>\n    </g>\n    <g id=\"xtick_5\">\n     <g id=\"line2d_5\">\n      <g>\n       <use style=\"stroke:#000000;stroke-width:0.8;\" x=\"210.992858\" xlink:href=\"#med1d3da2e2\" y=\"224.64\"/>\n      </g>\n     </g>\n     <g id=\"text_5\">\n      <!-- 100 -->\n      <g transform=\"translate(201.449108 239.238437)scale(0.1 -0.1)\">\n       <defs>\n        <path d=\"M 12.40625 8.296875 \nL 28.515625 8.296875 \nL 28.515625 63.921875 \nL 10.984375 60.40625 \nL 10.984375 69.390625 \nL 28.421875 72.90625 \nL 38.28125 72.90625 \nL 38.28125 8.296875 \nL 54.390625 8.296875 \nL 54.390625 0 \nL 12.40625 0 \nz\n\" id=\"DejaVuSans-49\"/>\n       </defs>\n       <use xlink:href=\"#DejaVuSans-49\"/>\n       <use x=\"63.623047\" xlink:href=\"#DejaVuSans-48\"/>\n       <use x=\"127.246094\" xlink:href=\"#DejaVuSans-48\"/>\n      </g>\n     </g>\n    </g>\n    <g id=\"xtick_6\">\n     <g id=\"line2d_6\">\n      <g>\n       <use style=\"stroke:#000000;stroke-width:0.8;\" x=\"249.229495\" xlink:href=\"#med1d3da2e2\" y=\"224.64\"/>\n      </g>\n     </g>\n     <g id=\"text_6\">\n      <!-- 125 -->\n      <g transform=\"translate(239.685745 239.238437)scale(0.1 -0.1)\">\n       <use xlink:href=\"#DejaVuSans-49\"/>\n       <use x=\"63.623047\" xlink:href=\"#DejaVuSans-50\"/>\n       <use x=\"127.246094\" xlink:href=\"#DejaVuSans-53\"/>\n      </g>\n     </g>\n    </g>\n    <g id=\"xtick_7\">\n     <g id=\"line2d_7\">\n      <g>\n       <use style=\"stroke:#000000;stroke-width:0.8;\" x=\"287.466133\" xlink:href=\"#med1d3da2e2\" y=\"224.64\"/>\n      </g>\n     </g>\n     <g id=\"text_7\">\n      <!-- 150 -->\n      <g transform=\"translate(277.922383 239.238437)scale(0.1 -0.1)\">\n       <use xlink:href=\"#DejaVuSans-49\"/>\n       <use x=\"63.623047\" xlink:href=\"#DejaVuSans-53\"/>\n       <use x=\"127.246094\" xlink:href=\"#DejaVuSans-48\"/>\n      </g>\n     </g>\n    </g>\n    <g id=\"xtick_8\">\n     <g id=\"line2d_8\">\n      <g>\n       <use style=\"stroke:#000000;stroke-width:0.8;\" x=\"325.702771\" xlink:href=\"#med1d3da2e2\" y=\"224.64\"/>\n      </g>\n     </g>\n     <g id=\"text_8\">\n      <!-- 175 -->\n      <g transform=\"translate(316.159021 239.238437)scale(0.1 -0.1)\">\n       <use xlink:href=\"#DejaVuSans-49\"/>\n       <use x=\"63.623047\" xlink:href=\"#DejaVuSans-55\"/>\n       <use x=\"127.246094\" xlink:href=\"#DejaVuSans-53\"/>\n      </g>\n     </g>\n    </g>\n    <g id=\"xtick_9\">\n     <g id=\"line2d_9\">\n      <g>\n       <use style=\"stroke:#000000;stroke-width:0.8;\" x=\"363.939409\" xlink:href=\"#med1d3da2e2\" y=\"224.64\"/>\n      </g>\n     </g>\n     <g id=\"text_9\">\n      <!-- 200 -->\n      <g transform=\"translate(354.395659 239.238437)scale(0.1 -0.1)\">\n       <use xlink:href=\"#DejaVuSans-50\"/>\n       <use x=\"63.623047\" xlink:href=\"#DejaVuSans-48\"/>\n       <use x=\"127.246094\" xlink:href=\"#DejaVuSans-48\"/>\n      </g>\n     </g>\n    </g>\n   </g>\n   <g id=\"matplotlib.axis_2\">\n    <g id=\"ytick_1\">\n     <g id=\"line2d_10\">\n      <defs>\n       <path d=\"M 0 0 \nL -3.5 0 \n\" id=\"mc9a6329ccc\" style=\"stroke:#000000;stroke-width:0.8;\"/>\n      </defs>\n      <g>\n       <use style=\"stroke:#000000;stroke-width:0.8;\" x=\"42.828125\" xlink:href=\"#mc9a6329ccc\" y=\"223.514133\"/>\n      </g>\n     </g>\n     <g id=\"text_10\">\n      <!-- 1.962 -->\n      <g transform=\"translate(7.2 227.313352)scale(0.1 -0.1)\">\n       <defs>\n        <path d=\"M 10.6875 12.40625 \nL 21 12.40625 \nL 21 0 \nL 10.6875 0 \nz\n\" id=\"DejaVuSans-46\"/>\n        <path d=\"M 10.984375 1.515625 \nL 10.984375 10.5 \nQ 14.703125 8.734375 18.5 7.8125 \nQ 22.3125 6.890625 25.984375 6.890625 \nQ 35.75 6.890625 40.890625 13.453125 \nQ 46.046875 20.015625 46.78125 33.40625 \nQ 43.953125 29.203125 39.59375 26.953125 \nQ 35.25 24.703125 29.984375 24.703125 \nQ 19.046875 24.703125 12.671875 31.3125 \nQ 6.296875 37.9375 6.296875 49.421875 \nQ 6.296875 60.640625 12.9375 67.421875 \nQ 19.578125 74.21875 30.609375 74.21875 \nQ 43.265625 74.21875 49.921875 64.515625 \nQ 56.59375 54.828125 56.59375 36.375 \nQ 56.59375 19.140625 48.40625 8.859375 \nQ 40.234375 -1.421875 26.421875 -1.421875 \nQ 22.703125 -1.421875 18.890625 -0.6875 \nQ 15.09375 0.046875 10.984375 1.515625 \nz\nM 30.609375 32.421875 \nQ 37.25 32.421875 41.125 36.953125 \nQ 45.015625 41.5 45.015625 49.421875 \nQ 45.015625 57.28125 41.125 61.84375 \nQ 37.25 66.40625 30.609375 66.40625 \nQ 23.96875 66.40625 20.09375 61.84375 \nQ 16.21875 57.28125 16.21875 49.421875 \nQ 16.21875 41.5 20.09375 36.953125 \nQ 23.96875 32.421875 30.609375 32.421875 \nz\n\" id=\"DejaVuSans-57\"/>\n        <path d=\"M 33.015625 40.375 \nQ 26.375 40.375 22.484375 35.828125 \nQ 18.609375 31.296875 18.609375 23.390625 \nQ 18.609375 15.53125 22.484375 10.953125 \nQ 26.375 6.390625 33.015625 6.390625 \nQ 39.65625 6.390625 43.53125 10.953125 \nQ 47.40625 15.53125 47.40625 23.390625 \nQ 47.40625 31.296875 43.53125 35.828125 \nQ 39.65625 40.375 33.015625 40.375 \nz\nM 52.59375 71.296875 \nL 52.59375 62.3125 \nQ 48.875 64.0625 45.09375 64.984375 \nQ 41.3125 65.921875 37.59375 65.921875 \nQ 27.828125 65.921875 22.671875 59.328125 \nQ 17.53125 52.734375 16.796875 39.40625 \nQ 19.671875 43.65625 24.015625 45.921875 \nQ 28.375 48.1875 33.59375 48.1875 \nQ 44.578125 48.1875 50.953125 41.515625 \nQ 57.328125 34.859375 57.328125 23.390625 \nQ 57.328125 12.15625 50.6875 5.359375 \nQ 44.046875 -1.421875 33.015625 -1.421875 \nQ 20.359375 -1.421875 13.671875 8.265625 \nQ 6.984375 17.96875 6.984375 36.375 \nQ 6.984375 53.65625 15.1875 63.9375 \nQ 23.390625 74.21875 37.203125 74.21875 \nQ 40.921875 74.21875 44.703125 73.484375 \nQ 48.484375 72.75 52.59375 71.296875 \nz\n\" id=\"DejaVuSans-54\"/>\n       </defs>\n       <use xlink:href=\"#DejaVuSans-49\"/>\n       <use x=\"63.623047\" xlink:href=\"#DejaVuSans-46\"/>\n       <use x=\"95.410156\" xlink:href=\"#DejaVuSans-57\"/>\n       <use x=\"159.033203\" xlink:href=\"#DejaVuSans-54\"/>\n       <use x=\"222.65625\" xlink:href=\"#DejaVuSans-50\"/>\n      </g>\n     </g>\n    </g>\n    <g id=\"ytick_2\">\n     <g id=\"line2d_11\">\n      <g>\n       <use style=\"stroke:#000000;stroke-width:0.8;\" x=\"42.828125\" xlink:href=\"#mc9a6329ccc\" y=\"198.492268\"/>\n      </g>\n     </g>\n     <g id=\"text_11\">\n      <!-- 1.964 -->\n      <g transform=\"translate(7.2 202.291487)scale(0.1 -0.1)\">\n       <defs>\n        <path d=\"M 37.796875 64.3125 \nL 12.890625 25.390625 \nL 37.796875 25.390625 \nz\nM 35.203125 72.90625 \nL 47.609375 72.90625 \nL 47.609375 25.390625 \nL 58.015625 25.390625 \nL 58.015625 17.1875 \nL 47.609375 17.1875 \nL 47.609375 0 \nL 37.796875 0 \nL 37.796875 17.1875 \nL 4.890625 17.1875 \nL 4.890625 26.703125 \nz\n\" id=\"DejaVuSans-52\"/>\n       </defs>\n       <use xlink:href=\"#DejaVuSans-49\"/>\n       <use x=\"63.623047\" xlink:href=\"#DejaVuSans-46\"/>\n       <use x=\"95.410156\" xlink:href=\"#DejaVuSans-57\"/>\n       <use x=\"159.033203\" xlink:href=\"#DejaVuSans-54\"/>\n       <use x=\"222.65625\" xlink:href=\"#DejaVuSans-52\"/>\n      </g>\n     </g>\n    </g>\n    <g id=\"ytick_3\">\n     <g id=\"line2d_12\">\n      <g>\n       <use style=\"stroke:#000000;stroke-width:0.8;\" x=\"42.828125\" xlink:href=\"#mc9a6329ccc\" y=\"173.470403\"/>\n      </g>\n     </g>\n     <g id=\"text_12\">\n      <!-- 1.966 -->\n      <g transform=\"translate(7.2 177.269621)scale(0.1 -0.1)\">\n       <use xlink:href=\"#DejaVuSans-49\"/>\n       <use x=\"63.623047\" xlink:href=\"#DejaVuSans-46\"/>\n       <use x=\"95.410156\" xlink:href=\"#DejaVuSans-57\"/>\n       <use x=\"159.033203\" xlink:href=\"#DejaVuSans-54\"/>\n       <use x=\"222.65625\" xlink:href=\"#DejaVuSans-54\"/>\n      </g>\n     </g>\n    </g>\n    <g id=\"ytick_4\">\n     <g id=\"line2d_13\">\n      <g>\n       <use style=\"stroke:#000000;stroke-width:0.8;\" x=\"42.828125\" xlink:href=\"#mc9a6329ccc\" y=\"148.448537\"/>\n      </g>\n     </g>\n     <g id=\"text_13\">\n      <!-- 1.968 -->\n      <g transform=\"translate(7.2 152.247756)scale(0.1 -0.1)\">\n       <defs>\n        <path d=\"M 31.78125 34.625 \nQ 24.75 34.625 20.71875 30.859375 \nQ 16.703125 27.09375 16.703125 20.515625 \nQ 16.703125 13.921875 20.71875 10.15625 \nQ 24.75 6.390625 31.78125 6.390625 \nQ 38.8125 6.390625 42.859375 10.171875 \nQ 46.921875 13.96875 46.921875 20.515625 \nQ 46.921875 27.09375 42.890625 30.859375 \nQ 38.875 34.625 31.78125 34.625 \nz\nM 21.921875 38.8125 \nQ 15.578125 40.375 12.03125 44.71875 \nQ 8.5 49.078125 8.5 55.328125 \nQ 8.5 64.0625 14.71875 69.140625 \nQ 20.953125 74.21875 31.78125 74.21875 \nQ 42.671875 74.21875 48.875 69.140625 \nQ 55.078125 64.0625 55.078125 55.328125 \nQ 55.078125 49.078125 51.53125 44.71875 \nQ 48 40.375 41.703125 38.8125 \nQ 48.828125 37.15625 52.796875 32.3125 \nQ 56.78125 27.484375 56.78125 20.515625 \nQ 56.78125 9.90625 50.3125 4.234375 \nQ 43.84375 -1.421875 31.78125 -1.421875 \nQ 19.734375 -1.421875 13.25 4.234375 \nQ 6.78125 9.90625 6.78125 20.515625 \nQ 6.78125 27.484375 10.78125 32.3125 \nQ 14.796875 37.15625 21.921875 38.8125 \nz\nM 18.3125 54.390625 \nQ 18.3125 48.734375 21.84375 45.5625 \nQ 25.390625 42.390625 31.78125 42.390625 \nQ 38.140625 42.390625 41.71875 45.5625 \nQ 45.3125 48.734375 45.3125 54.390625 \nQ 45.3125 60.0625 41.71875 63.234375 \nQ 38.140625 66.40625 31.78125 66.40625 \nQ 25.390625 66.40625 21.84375 63.234375 \nQ 18.3125 60.0625 18.3125 54.390625 \nz\n\" id=\"DejaVuSans-56\"/>\n       </defs>\n       <use xlink:href=\"#DejaVuSans-49\"/>\n       <use x=\"63.623047\" xlink:href=\"#DejaVuSans-46\"/>\n       <use x=\"95.410156\" xlink:href=\"#DejaVuSans-57\"/>\n       <use x=\"159.033203\" xlink:href=\"#DejaVuSans-54\"/>\n       <use x=\"222.65625\" xlink:href=\"#DejaVuSans-56\"/>\n      </g>\n     </g>\n    </g>\n    <g id=\"ytick_5\">\n     <g id=\"line2d_14\">\n      <g>\n       <use style=\"stroke:#000000;stroke-width:0.8;\" x=\"42.828125\" xlink:href=\"#mc9a6329ccc\" y=\"123.426672\"/>\n      </g>\n     </g>\n     <g id=\"text_14\">\n      <!-- 1.970 -->\n      <g transform=\"translate(7.2 127.225891)scale(0.1 -0.1)\">\n       <use xlink:href=\"#DejaVuSans-49\"/>\n       <use x=\"63.623047\" xlink:href=\"#DejaVuSans-46\"/>\n       <use x=\"95.410156\" xlink:href=\"#DejaVuSans-57\"/>\n       <use x=\"159.033203\" xlink:href=\"#DejaVuSans-55\"/>\n       <use x=\"222.65625\" xlink:href=\"#DejaVuSans-48\"/>\n      </g>\n     </g>\n    </g>\n    <g id=\"ytick_6\">\n     <g id=\"line2d_15\">\n      <g>\n       <use style=\"stroke:#000000;stroke-width:0.8;\" x=\"42.828125\" xlink:href=\"#mc9a6329ccc\" y=\"98.404806\"/>\n      </g>\n     </g>\n     <g id=\"text_15\">\n      <!-- 1.972 -->\n      <g transform=\"translate(7.2 102.204025)scale(0.1 -0.1)\">\n       <use xlink:href=\"#DejaVuSans-49\"/>\n       <use x=\"63.623047\" xlink:href=\"#DejaVuSans-46\"/>\n       <use x=\"95.410156\" xlink:href=\"#DejaVuSans-57\"/>\n       <use x=\"159.033203\" xlink:href=\"#DejaVuSans-55\"/>\n       <use x=\"222.65625\" xlink:href=\"#DejaVuSans-50\"/>\n      </g>\n     </g>\n    </g>\n    <g id=\"ytick_7\">\n     <g id=\"line2d_16\">\n      <g>\n       <use style=\"stroke:#000000;stroke-width:0.8;\" x=\"42.828125\" xlink:href=\"#mc9a6329ccc\" y=\"73.382941\"/>\n      </g>\n     </g>\n     <g id=\"text_16\">\n      <!-- 1.974 -->\n      <g transform=\"translate(7.2 77.18216)scale(0.1 -0.1)\">\n       <use xlink:href=\"#DejaVuSans-49\"/>\n       <use x=\"63.623047\" xlink:href=\"#DejaVuSans-46\"/>\n       <use x=\"95.410156\" xlink:href=\"#DejaVuSans-57\"/>\n       <use x=\"159.033203\" xlink:href=\"#DejaVuSans-55\"/>\n       <use x=\"222.65625\" xlink:href=\"#DejaVuSans-52\"/>\n      </g>\n     </g>\n    </g>\n    <g id=\"ytick_8\">\n     <g id=\"line2d_17\">\n      <g>\n       <use style=\"stroke:#000000;stroke-width:0.8;\" x=\"42.828125\" xlink:href=\"#mc9a6329ccc\" y=\"48.361076\"/>\n      </g>\n     </g>\n     <g id=\"text_17\">\n      <!-- 1.976 -->\n      <g transform=\"translate(7.2 52.160294)scale(0.1 -0.1)\">\n       <use xlink:href=\"#DejaVuSans-49\"/>\n       <use x=\"63.623047\" xlink:href=\"#DejaVuSans-46\"/>\n       <use x=\"95.410156\" xlink:href=\"#DejaVuSans-57\"/>\n       <use x=\"159.033203\" xlink:href=\"#DejaVuSans-55\"/>\n       <use x=\"222.65625\" xlink:href=\"#DejaVuSans-54\"/>\n      </g>\n     </g>\n    </g>\n    <g id=\"ytick_9\">\n     <g id=\"line2d_18\">\n      <g>\n       <use style=\"stroke:#000000;stroke-width:0.8;\" x=\"42.828125\" xlink:href=\"#mc9a6329ccc\" y=\"23.33921\"/>\n      </g>\n     </g>\n     <g id=\"text_18\">\n      <!-- 1.978 -->\n      <g transform=\"translate(7.2 27.138429)scale(0.1 -0.1)\">\n       <use xlink:href=\"#DejaVuSans-49\"/>\n       <use x=\"63.623047\" xlink:href=\"#DejaVuSans-46\"/>\n       <use x=\"95.410156\" xlink:href=\"#DejaVuSans-57\"/>\n       <use x=\"159.033203\" xlink:href=\"#DejaVuSans-55\"/>\n       <use x=\"222.65625\" xlink:href=\"#DejaVuSans-56\"/>\n      </g>\n     </g>\n    </g>\n   </g>\n   <g id=\"line2d_19\">\n    <path clip-path=\"url(#p805f907356)\" d=\"M 58.046307 22.08884 \nL 59.575772 22.08884 \nL 61.105238 17.083636 \nL 62.634703 18.334937 \nL 64.164169 23.338649 \nL 65.693634 23.338649 \nL 67.2231 18.334937 \nL 68.752565 18.334937 \nL 70.282031 19.586238 \nL 71.811496 18.334937 \nL 73.340962 28.343853 \nL 76.399893 25.841251 \nL 77.929358 22.08884 \nL 79.458824 30.846455 \nL 80.988289 25.841251 \nL 82.517755 32.096264 \nL 84.04722 37.101468 \nL 85.576686 49.611493 \nL 87.106151 49.611493 \nL 88.635617 48.361684 \nL 90.165083 49.611493 \nL 91.694548 48.361684 \nL 93.224014 53.365396 \nL 94.753479 49.611493 \nL 96.282945 49.611493 \nL 97.81241 45.859082 \nL 99.341876 44.607781 \nL 100.871341 50.862794 \nL 102.400807 70.880626 \nL 103.930272 72.131926 \nL 105.459738 80.889541 \nL 106.989203 110.916288 \nL 108.518669 120.925204 \nL 110.048134 139.690242 \nL 111.5776 124.677615 \nL 113.107065 125.928916 \nL 114.636531 134.68653 \nL 116.165996 147.198048 \nL 117.695462 134.68653 \nL 119.224927 148.447857 \nL 120.754393 152.20176 \nL 122.283858 153.453061 \nL 123.813324 138.440433 \nL 125.342789 135.937831 \nL 126.872255 130.932628 \nL 128.40172 120.925204 \nL 129.931186 130.932628 \nL 131.460651 117.171301 \nL 132.990117 120.925204 \nL 134.519582 108.413686 \nL 136.049048 122.175013 \nL 137.578513 134.68653 \nL 139.107979 133.435229 \nL 140.637444 140.941543 \nL 142.16691 149.699158 \nL 143.696375 155.955662 \nL 145.225841 155.955662 \nL 148.284772 183.479807 \nL 149.814237 179.725905 \nL 151.343703 172.219591 \nL 152.873168 174.722193 \nL 154.402634 184.729617 \nL 155.932099 187.232219 \nL 157.461565 202.244846 \nL 160.520496 209.752652 \nL 162.049961 214.756364 \nL 163.579427 203.496147 \nL 165.108892 202.244846 \nL 166.638358 197.241134 \nL 168.167823 202.244846 \nL 169.697289 188.483519 \nL 171.226755 194.738532 \nL 172.75622 192.237422 \nL 174.285686 193.487232 \nL 175.815151 197.241134 \nL 177.344617 197.241134 \nL 178.874082 194.738532 \nL 180.403548 197.241134 \nL 181.933013 188.483519 \nL 183.462479 178.474604 \nL 184.991944 194.738532 \nL 186.52141 202.244846 \nL 188.050875 193.487232 \nL 189.580341 172.219591 \nL 191.109806 167.214387 \nL 192.639272 169.716989 \nL 194.168737 175.972002 \nL 195.698203 170.96829 \nL 197.227668 162.210675 \nL 198.757134 152.20176 \nL 200.286599 153.453061 \nL 201.816065 167.214387 \nL 203.34553 170.96829 \nL 204.874996 178.474604 \nL 206.404461 178.474604 \nL 207.933927 172.219591 \nL 209.463392 175.972002 \nL 210.992858 158.456773 \nL 212.522323 157.205472 \nL 214.051789 143.444145 \nL 215.581254 149.699158 \nL 217.11072 152.20176 \nL 218.640185 158.456773 \nL 220.169651 153.453061 \nL 221.699116 160.959374 \nL 223.228582 162.210675 \nL 224.758047 165.964578 \nL 226.287513 167.214387 \nL 227.816978 165.964578 \nL 229.346444 167.214387 \nL 232.405375 167.214387 \nL 233.93484 160.959374 \nL 235.464306 164.713277 \nL 240.052702 164.713277 \nL 241.582168 167.214387 \nL 243.111633 167.214387 \nL 244.641099 160.959374 \nL 246.170564 158.456773 \nL 247.70003 170.96829 \nL 250.758961 178.474604 \nL 253.817892 188.483519 \nL 255.347358 179.725905 \nL 256.876823 178.474604 \nL 258.406289 175.972002 \nL 259.935754 167.214387 \nL 261.46522 172.219591 \nL 262.994685 183.479807 \nL 264.524151 179.725905 \nL 266.053616 184.729617 \nL 267.583082 193.487232 \nL 269.112547 188.483519 \nL 270.642013 188.483519 \nL 272.171478 187.232219 \nL 273.700944 193.487232 \nL 275.230409 189.73482 \nL 276.759875 193.487232 \nL 278.28934 194.738532 \nL 279.818806 194.738532 \nL 281.348271 193.487232 \nL 282.877737 198.492435 \nL 284.407202 198.492435 \nL 285.936668 197.241134 \nL 287.466133 193.487232 \nL 288.995599 192.237422 \nL 290.525064 189.73482 \nL 292.05453 192.237422 \nL 293.583995 193.487232 \nL 295.113461 184.729617 \nL 296.642926 184.729617 \nL 298.172392 187.232219 \nL 299.701857 179.725905 \nL 301.231323 189.73482 \nL 304.290254 184.729617 \nL 305.819719 184.729617 \nL 307.349185 180.977206 \nL 308.87865 183.479807 \nL 310.408116 179.725905 \nL 311.937581 179.725905 \nL 313.467047 175.972002 \nL 316.525978 175.972002 \nL 318.055443 170.96829 \nL 319.584909 164.713277 \nL 321.114374 170.96829 \nL 322.64384 167.214387 \nL 324.173305 169.716989 \nL 325.702771 167.214387 \nL 327.232236 160.959374 \nL 328.761702 152.20176 \nL 330.291167 157.205472 \nL 331.820633 155.955662 \nL 333.350099 152.20176 \nL 334.879564 153.453061 \nL 336.40903 149.699158 \nL 337.938495 149.699158 \nL 340.997426 144.695446 \nL 342.526892 147.198048 \nL 344.056357 147.198048 \nL 345.585823 148.447857 \nL 347.115288 134.68653 \nL 348.644754 127.180216 \nL 350.174219 127.180216 \nL 351.703685 130.932628 \nL 353.23315 127.180216 \nL 354.762616 125.928916 \nL 356.292081 133.435229 \nL 357.821547 133.435229 \nL 359.351012 140.941543 \nL 360.880478 140.941543 \nL 362.409943 143.444145 \nL 362.409943 143.444145 \n\" style=\"fill:none;stroke:#1f77b4;stroke-linecap:square;stroke-width:1.5;\"/>\n   </g>\n   <g id=\"patch_3\">\n    <path d=\"M 42.828125 224.64 \nL 42.828125 7.2 \n\" style=\"fill:none;stroke:#000000;stroke-linecap:square;stroke-linejoin:miter;stroke-width:0.8;\"/>\n   </g>\n   <g id=\"patch_4\">\n    <path d=\"M 377.628125 224.64 \nL 377.628125 7.2 \n\" style=\"fill:none;stroke:#000000;stroke-linecap:square;stroke-linejoin:miter;stroke-width:0.8;\"/>\n   </g>\n   <g id=\"patch_5\">\n    <path d=\"M 42.828125 224.64 \nL 377.628125 224.64 \n\" style=\"fill:none;stroke:#000000;stroke-linecap:square;stroke-linejoin:miter;stroke-width:0.8;\"/>\n   </g>\n   <g id=\"patch_6\">\n    <path d=\"M 42.828125 7.2 \nL 377.628125 7.2 \n\" style=\"fill:none;stroke:#000000;stroke-linecap:square;stroke-linejoin:miter;stroke-width:0.8;\"/>\n   </g>\n  </g>\n </g>\n <defs>\n  <clipPath id=\"p805f907356\">\n   <rect height=\"217.44\" width=\"334.8\" x=\"42.828125\" y=\"7.2\"/>\n  </clipPath>\n </defs>\n</svg>\n",
      "image/png": "[encoded data removed]"
     },
     "metadata": {
      "needs_background": "light"
     }
    }
   ],
   "source": [
    "plt.plot(env.step(1)[:,1])"
   ]
  },
  {
   "cell_type": "code",
   "execution_count": null,
   "metadata": {},
   "outputs": [],
   "source": []
  },
  {
   "cell_type": "code",
   "execution_count": 8,
   "metadata": {},
   "outputs": [],
   "source": [
    "df = env._db.get(\"GBPUSD_15\")"
   ]
  },
  {
   "cell_type": "code",
   "execution_count": 15,
   "metadata": {},
   "outputs": [],
   "source": [
    "for col in df.column_names:\n",
    "    df.rename(col, f\"GBPUSD_15_{col}\" )"
   ]
  },
  {
   "cell_type": "code",
   "execution_count": 19,
   "metadata": {
    "tags": []
   },
   "outputs": [
    {
     "output_type": "execute_result",
     "data": {
      "text/plain": [
       "['GBPUSD_15_open',\n",
       " 'GBPUSD_15_high',\n",
       " 'GBPUSD_15_low',\n",
       " 'GBPUSD_15_close',\n",
       " 'GBPUSD_15_tick_volume']"
      ]
     },
     "metadata": {},
     "execution_count": 19
    }
   ],
   "source": [
    "df.columns"
   ]
  },
  {
   "cell_type": "code",
   "execution_count": 3,
   "metadata": {},
   "outputs": [],
   "source": [
    "cm = EnvConfigManager()"
   ]
  },
  {
   "cell_type": "code",
   "execution_count": 5,
   "metadata": {},
   "outputs": [],
   "source": [
    "config_checker(cm.get_config('Test 1'))"
   ]
  },
  {
   "cell_type": "code",
   "execution_count": 7,
   "metadata": {},
   "outputs": [
    {
     "output_type": "stream",
     "name": "stdout",
     "text": [
      "357 ns ± 2.49 ns per loop (mean ± std. dev. of 7 runs, 1000000 loops each)\n"
     ]
    }
   ],
   "source": [
    "%timeit random_index(60, 100000)"
   ]
  }
 ]
}