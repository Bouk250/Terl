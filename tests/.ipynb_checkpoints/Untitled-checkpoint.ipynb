{
 "cells": [
  {
   "cell_type": "code",
   "execution_count": 1,
   "metadata": {},
   "outputs": [],
   "source": [
    "from custom_indicators import *\n",
    "from terl.envs import TradingEnv\n",
    "from sklearn.preprocessing import FunctionTransformer\n",
    "from sklearn.compose import make_column_transformer\n",
    "from sklearn.pipeline import make_pipeline\n",
    "from gym import ObservationWrapper, RewardWrapper\n",
    "from gym.spaces import Box, Dict\n",
    "import numpy as np\n",
    "from pyts.image import GramianAngularField"
   ]
  },
  {
   "cell_type": "code",
   "execution_count": 2,
   "metadata": {},
   "outputs": [],
   "source": [
    "class ForexWrapper(ObservationWrapper):\n",
    "    def __init__(self, env,axis=None, min_val=0, max_val=1):\n",
    "        super(ForexWrapper, self).__init__(env)\n",
    "        \n",
    "        ct = make_column_transformer((FunctionTransformer(self.minmax_scale, kw_args={'axis':axis, 'feature_range':(min_val,max_val)}),[0,1,2,3]),\n",
    "                                     (FunctionTransformer(self.minmax_scale, kw_args={'axis':axis, 'feature_range':(min_val,max_val)}),[4]),\n",
    "                                     remainder='passthrough')\n",
    "\n",
    "        gadf = GramianAngularField(image_size=self.observation_space['market_data'].shape[0], method='difference')\n",
    "        self.model = make_pipeline(FunctionTransformer(self.T), gadf)\n",
    "\n",
    "        self.observation_space = Box(low=min_val, high=max_val, \n",
    "                        shape=self.model.fit_transform(np.random.random(size=self.observation_space['market_data'].shape)).shape, \n",
    "                        dtype=np.float32)\n",
    "        \"\"\"\n",
    "        Dict({\n",
    "            'market_data':Box(low=min_val, high=max_val, \n",
    "                        shape=self.model.fit_transform(np.random.random(size=self.observation_space['market_data'].shape)).shape, \n",
    "                        dtype=np.float32),\n",
    "            'portfolio_state':self.observation_space['portfolio_state']\n",
    "        }) \n",
    "        \"\"\"\n",
    "    \n",
    "    @staticmethod\n",
    "    def minmax_scale(X, axis=0, feature_range=(0,1)):\n",
    "        X_out = np.zeros_like(X)\n",
    "        X_min = np.min(X, axis=axis)\n",
    "        X_max = np.max(X, axis=axis)\n",
    "\n",
    "        X_out = (X - X_min) / (X_max - X_min)\n",
    "        X_out = X_out * (feature_range[1]-feature_range[0]) + feature_range[0]\n",
    "\n",
    "        return X_out\n",
    "    \n",
    "    @staticmethod\n",
    "    def T(X:np.ndarray):\n",
    "        return X.T\n",
    "        \n",
    "    def observation(self, observation):\n",
    "        observation = self.model.fit_transform(observation['market_data'])\n",
    "        return observation"
   ]
  },
  {
   "cell_type": "code",
   "execution_count": 14,
   "metadata": {},
   "outputs": [
    {
     "data": {
      "text/plain": [
       "Dict(market_data:Box(-inf, inf, (60, 5), float32), portfolio_state:MultiBinary((3,)))"
      ]
     },
     "execution_count": 14,
     "metadata": {},
     "output_type": "execute_result"
    }
   ],
   "source": [
    "TradingEnv('TestEnvSingle').observation_space"
   ]
  },
  {
   "cell_type": "code",
   "execution_count": 15,
   "metadata": {},
   "outputs": [],
   "source": [
    "env = ForexWrapper(TradingEnv('TestEnvSingle'), min_val=-1, max_val=1)"
   ]
  },
  {
   "cell_type": "code",
   "execution_count": 16,
   "metadata": {},
   "outputs": [
    {
     "data": {
      "text/plain": [
       "Box(-1.0, 1.0, (5, 60, 60), float32)"
      ]
     },
     "execution_count": 16,
     "metadata": {},
     "output_type": "execute_result"
    }
   ],
   "source": [
    "env.observation_space"
   ]
  },
  {
   "cell_type": "code",
   "execution_count": 17,
   "metadata": {},
   "outputs": [],
   "source": [
    "obs = env.reset()"
   ]
  },
  {
   "cell_type": "code",
   "execution_count": 19,
   "metadata": {},
   "outputs": [
    {
     "data": {
      "text/plain": [
       "-0.9999999989862174"
      ]
     },
     "execution_count": 19,
     "metadata": {},
     "output_type": "execute_result"
    }
   ],
   "source": [
    "import matplotlib.pyplot as plt\n",
    "\n",
    "np.min(obs[4])"
   ]
  },
  {
   "cell_type": "code",
   "execution_count": null,
   "metadata": {},
   "outputs": [],
   "source": [
    "rewards = []\n",
    "\n",
    "for a in range(100):\n",
    "    for b in range(100):\n",
    "        env.reset()\n",
    "        done = False\n",
    "        while not done:\n",
    "            action = env.action_space.sample()\n",
    "            obs, reward, done, _ = env.step(action)\n",
    "    rewards.append(env._portfolio._history['trade_profit'].mean())\n",
    "    env._portfolio.clear_history()\n",
    "    print(a)"
   ]
  },
  {
   "cell_type": "code",
   "execution_count": 6,
   "metadata": {},
   "outputs": [],
   "source": [
    "import numpy as np"
   ]
  },
  {
   "cell_type": "code",
   "execution_count": 7,
   "metadata": {},
   "outputs": [],
   "source": [
    "rewards = np.array(rewards)"
   ]
  },
  {
   "cell_type": "code",
   "execution_count": 11,
   "metadata": {},
   "outputs": [],
   "source": [
    "import matplotlib.pyplot as plt"
   ]
  },
  {
   "cell_type": "code",
   "execution_count": 12,
   "metadata": {},
   "outputs": [
    {
     "data": {
      "image/png": "[encoded data removed]",
      "text/plain": [
       "<Figure size 432x288 with 1 Axes>"
      ]
     },
     "metadata": {
      "needs_background": "light"
     },
     "output_type": "display_data"
    }
   ],
   "source": [
    "plt.hist(rewards, bins=20)\n",
    "plt.show()"
   ]
  },
  {
   "cell_type": "code",
   "execution_count": 2,
   "metadata": {},
   "outputs": [
    {
     "name": "stderr",
     "output_type": "stream",
     "text": [
      "INFO:Thread-4:numexpr.utils:NumExpr defaulting to 8 threads.\n"
     ]
    },
    {
     "name": "stdout",
     "output_type": "stream",
     "text": [
      "2.49\n",
      "             symbol position  enter_price      enter_datetime  out_price  \\\n",
      "0   GBPUSD_15_close    Short      1.51302 2009-05-07 06:30:00    1.51114   \n",
      "1   GBPUSD_15_close    Short      1.61930 2008-11-03 14:00:00    1.61520   \n",
      "2   GBPUSD_15_close    Short      1.59250 2003-09-12 11:30:00    1.59380   \n",
      "3   GBPUSD_15_close    Short      1.56404 2012-05-30 00:15:00    1.56356   \n",
      "4   GBPUSD_15_close     Long      1.30021 2016-09-27 11:15:00    1.29723   \n",
      "..              ...      ...          ...                 ...        ...   \n",
      "95  GBPUSD_15_close     Long      1.97860 2008-04-14 20:15:00    1.97970   \n",
      "96  GBPUSD_15_close     Long      1.54185 2012-07-13 10:15:00    1.54257   \n",
      "97  GBPUSD_15_close    Short      1.45170 2001-08-21 23:15:00    1.45450   \n",
      "98  GBPUSD_15_close     Long      1.53390 2002-08-28 02:00:00    1.53290   \n",
      "99  GBPUSD_15_close     Long      1.67141 2009-11-19 08:30:00    1.67050   \n",
      "\n",
      "          out_datetime trade_profit  trade_duration  \n",
      "0  2009-05-07 07:00:00          188 0 days 00:30:00  \n",
      "1  2008-11-03 14:45:00          409 0 days 00:45:00  \n",
      "2  2003-09-12 12:45:00         -129 0 days 01:15:00  \n",
      "3  2012-05-30 00:45:00           47 0 days 00:30:00  \n",
      "4  2016-09-27 12:15:00         -297 0 days 01:00:00  \n",
      "..                 ...          ...             ...  \n",
      "95 2008-04-14 20:45:00          109 0 days 00:30:00  \n",
      "96 2012-07-13 10:30:00           72 0 days 00:15:00  \n",
      "97 2001-08-21 23:45:00         -279 0 days 00:30:00  \n",
      "98 2002-08-28 02:45:00         -100 0 days 00:45:00  \n",
      "99 2009-11-19 09:15:00          -90 0 days 00:45:00  \n",
      "\n",
      "[100 rows x 8 columns]\n"
     ]
    }
   ],
   "source": [
    "env2 = TradingEnv('TestEnv')\n",
    "for b in range(100):\n",
    "    env2.reset()\n",
    "    done = False\n",
    "    while not done:\n",
    "        action = env2.action_space.sample()\n",
    "        obs, reward, done, _ = env2.step(action)\n",
    "print(env2._portfolio._history['trade_profit'].mean())\n",
    "print(env2._portfolio._history)"
   ]
  },
  {
   "cell_type": "code",
   "execution_count": 12,
   "metadata": {},
   "outputs": [
    {
     "data": {
      "text/plain": [
       "False"
      ]
     },
     "execution_count": 12,
     "metadata": {},
     "output_type": "execute_result"
    }
   ],
   "source": [
    "env2.reset()\n",
    "(env2._portfolio._trade['done'] == True).all()"
   ]
  },
  {
   "cell_type": "code",
   "execution_count": 3,
   "metadata": {},
   "outputs": [
    {
     "name": "stdout",
     "output_type": "stream",
     "text": [
      "2.605\n",
      "              symbol position  enter_price      enter_datetime  out_price  \\\n",
      "0    GBPUSD_15_close     Long      1.88200 2005-02-03 22:30:00    1.88240   \n",
      "1     GBPUSD_15_open     Long      1.88250 2005-02-03 23:30:00    1.88210   \n",
      "2    GBPUSD_15_close     Long      1.57206 2012-07-31 07:30:00    1.57202   \n",
      "3     GBPUSD_15_open    Short      1.57213 2012-07-31 07:45:00    1.57201   \n",
      "4    GBPUSD_15_close     Long      1.42116 2009-03-06 08:45:00    1.42746   \n",
      "..               ...      ...          ...                 ...        ...   \n",
      "195  GBPUSD_15_close    Short      1.44490 2001-10-18 13:15:00    1.44200   \n",
      "196   GBPUSD_15_open    Short      1.82450 2004-06-25 00:00:00    1.82500   \n",
      "197  GBPUSD_15_close    Short      1.82460 2004-06-25 00:00:00    1.82580   \n",
      "198  GBPUSD_15_close     Long      1.77670 2005-09-26 21:30:00    1.77620   \n",
      "199   GBPUSD_15_open     Long      1.77790 2005-09-26 22:15:00    1.77880   \n",
      "\n",
      "           out_datetime trade_profit  trade_duration  \n",
      "0   2005-02-03 23:15:00           40 0 days 00:45:00  \n",
      "1   2005-02-04 00:30:00          -40 0 days 01:00:00  \n",
      "2   2012-07-31 08:00:00           -3 0 days 00:30:00  \n",
      "3   2012-07-31 08:15:00           11 0 days 00:30:00  \n",
      "4   2009-03-06 09:00:00          629 0 days 00:15:00  \n",
      "..                  ...          ...             ...  \n",
      "195 2001-10-18 14:00:00          290 0 days 00:45:00  \n",
      "196 2004-06-25 00:30:00          -50 0 days 00:30:00  \n",
      "197 2004-06-25 00:45:00         -119 0 days 00:45:00  \n",
      "198 2005-09-26 21:45:00          -49 0 days 00:15:00  \n",
      "199 2005-09-26 23:45:00           90 0 days 01:30:00  \n",
      "\n",
      "[200 rows x 8 columns]\n"
     ]
    }
   ],
   "source": [
    "env._portfolio.clear_history()\n",
    "for b in range(100):\n",
    "    env.reset()\n",
    "    done = False\n",
    "    while not done:\n",
    "        action = env.action_space.sample()\n",
    "        obs, reward, done, _ = env.step(action)\n",
    "print(env._portfolio._history['trade_profit'].mean())\n",
    "print(env._portfolio._history)"
   ]
  },
  {
   "cell_type": "code",
   "execution_count": 4,
   "metadata": {},
   "outputs": [
    {
     "data": {
      "text/plain": [
       "GBPUSD_15_close    100\n",
       "GBPUSD_15_open     100\n",
       "Name: symbol, dtype: int64"
      ]
     },
     "execution_count": 4,
     "metadata": {},
     "output_type": "execute_result"
    }
   ],
   "source": [
    "env._portfolio._history['symbol'].value_counts()"
   ]
  },
  {
   "cell_type": "code",
   "execution_count": 11,
   "metadata": {},
   "outputs": [
    {
     "data": {
      "text/plain": [
       "array([ True])"
      ]
     },
     "execution_count": 11,
     "metadata": {},
     "output_type": "execute_result"
    }
   ],
   "source": [
    "mask = env2._portfolio._trade['done'].values == True\n",
    "mask\n"
   ]
  },
  {
   "cell_type": "code",
   "execution_count": 18,
   "metadata": {},
   "outputs": [],
   "source": [
    "env2._portfolio._trade[mask] = np.NaN"
   ]
  },
  {
   "cell_type": "code",
   "execution_count": 19,
   "metadata": {},
   "outputs": [
    {
     "data": {
      "text/html": [
       "<div>\n",
       "<style scoped>\n",
       "    .dataframe tbody tr th:only-of-type {\n",
       "        vertical-align: middle;\n",
       "    }\n",
       "\n",
       "    .dataframe tbody tr th {\n",
       "        vertical-align: top;\n",
       "    }\n",
       "\n",
       "    .dataframe thead th {\n",
       "        text-align: right;\n",
       "    }\n",
       "</style>\n",
       "<table border=\"1\" class=\"dataframe\">\n",
       "  <thead>\n",
       "    <tr style=\"text-align: right;\">\n",
       "      <th></th>\n",
       "      <th>position</th>\n",
       "      <th>enter_price</th>\n",
       "      <th>enter_datetime</th>\n",
       "      <th>done</th>\n",
       "    </tr>\n",
       "  </thead>\n",
       "  <tbody>\n",
       "    <tr>\n",
       "      <th>GBPUSD_15_close</th>\n",
       "      <td>NaN</td>\n",
       "      <td>NaN</td>\n",
       "      <td>NaN</td>\n",
       "      <td>NaN</td>\n",
       "    </tr>\n",
       "  </tbody>\n",
       "</table>\n",
       "</div>"
      ],
      "text/plain": [
       "                position enter_price enter_datetime done\n",
       "GBPUSD_15_close      NaN         NaN            NaN  NaN"
      ]
     },
     "execution_count": 19,
     "metadata": {},
     "output_type": "execute_result"
    }
   ],
   "source": [
    "env2._portfolio._trade[mask]"
   ]
  }
 ],
 "metadata": {
  "kernelspec": {
   "display_name": "Python 3",
   "language": "python",
   "name": "python3"
  },
  "language_info": {
   "codemirror_mode": {
    "name": "ipython",
    "version": 3
   },
   "file_extension": ".py",
   "mimetype": "text/x-python",
   "name": "python",
   "nbconvert_exporter": "python",
   "pygments_lexer": "ipython3",
   "version": "3.6.12"
  }
 },
 "nbformat": 4,
 "nbformat_minor": 4
}
